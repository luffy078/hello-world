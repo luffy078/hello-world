{
  "nbformat": 4,
  "nbformat_minor": 0,
  "metadata": {
    "colab": {
      "name": "tfmodule0.ipynb",
      "version": "0.3.2",
      "provenance": [],
      "include_colab_link": true
    },
    "kernelspec": {
      "name": "python3",
      "display_name": "Python 3"
    }
  },
  "cells": [
    {
      "cell_type": "markdown",
      "metadata": {
        "id": "view-in-github",
        "colab_type": "text"
      },
      "source": [
        "<a href=\"https://colab.research.google.com/github/luffy078/hello-world/blob/master/tfmodule0.ipynb\" target=\"_parent\"><img src=\"https://colab.research.google.com/assets/colab-badge.svg\" alt=\"Open In Colab\"/></a>"
      ]
    },
    {
      "metadata": {
        "id": "la58oR8fX0Sm",
        "colab_type": "code",
        "outputId": "f9100600-b5d2-48cb-849a-7905aac84dd8",
        "colab": {
          "base_uri": "https://localhost:8080/",
          "height": 608
        }
      },
      "cell_type": "code",
      "source": [
        "import tensorflow as tf\n",
        "tf.enable_eager_execution()\n",
        "\n",
        "import numpy as np\n",
        "import os\n",
        "import time\n",
        "path_to_file =  \"\"\" \n",
        "KING ARTHUR: Whoa there!  [clop clop clop] \n",
        "SOLDIER #1: Halt!  Who goes there?\n",
        "ARTHUR: It is I, Arthur, son of Uther Pendragon, from the castle of Camelot.  King of the Britons, defeator of the Saxons, sovereign of all England!\n",
        "SOLDIER #1: Pull the other one!\n",
        "ARTHUR: I am, ...  and this is my trusty servant Patsy.  We have ridden the length and breadth of the land in search of knights who will join me in my court at Camelot.  I must speak with your lord and master.\n",
        "SOLDIER #1: What?  Ridden on a horse?\n",
        "ARTHUR: Yes!\n",
        "SOLDIER #1: You're using coconuts!\n",
        "ARTHUR: What?\n",
        "SOLDIER #1: You've got two empty halves of coconut and you're bangin' 'em together.\n",
        "ARTHUR: So?  We have ridden since the snows of winter covered this land, through the kingdom of Mercea, through--\n",
        "SOLDIER #1: Where'd you get the coconuts?\n",
        "ARTHUR: We found them.\n",
        "SOLDIER #1: Found them?  In Mercea?  The coconut's tropical!\n",
        "ARTHUR: What do you mean?\n",
        "SOLDIER #1: Well, this is a temperate zone.\n",
        "ARTHUR: The swallow may fly south with the sun or the house martin or the plover may seek warmer climes in winter, yet these are not strangers to our land?\n",
        "SOLDIER #1: Are you suggesting coconuts migrate?\n",
        "ARTHUR: Not at all.  They could be carried.\n",
        "SOLDIER #1: What?  A swallow carrying a coconut?\n",
        "ARTHUR: It could grip it by the husk!\n",
        "SOLDIER #1: It's not a question of where he grips it!  It's a simple question of weight ratios!  A five ounce bird could not carry a one pound coconut.\n",
        "ARTHUR: Well, it doesn't matter.  Will you go and tell your master that Arthur from the Court of Camelot is here.\n",
        "SOLDIER #1: Listen.  In order to maintain air-speed velocity, a swallow needs to beat its wings forty-three times every second, right?\n",
        "ARTHUR: Please!\n",
        "SOLDIER #1: Am I right?\n",
        "ARTHUR: I'm not interested!\n",
        "SOLDIER #2: It could be carried by an African swallow!\n",
        "SOLDIER #1: Oh, yeah, an African swallow maybe, but not a European swallow.  That's my point.\n",
        "SOLDIER #2: Oh, yeah, I agree with that.\n",
        "ARTHUR: Will you ask your master if he wants to join my court at Camelot?!\n",
        "SOLDIER #1: But then of course a-- African swallows are non-migratory.\n",
        "SOLDIER #2: Oh, yeah...\n",
        "SOLDIER #1: So they couldn't bring a coconut back anyway...  [clop clop clop] \n",
        "SOLDIER #2: Wait a minute!  Supposing two swallows carried it together?\n",
        "SOLDIER #1: No, they'd have to have it on a line.\n",
        "SOLDIER #2: Well, simple!  They'd just use a strand of creeper!\n",
        "SOLDIER #1: What, held under the dorsal guiding feathers?\n",
        "SOLDIER #2: Well, why not?\"\"\"\n",
        "\n",
        "text = path_to_file\n",
        "# length of text is the number of characters in it\n",
        "print ('Length of text: {} characters'.format(len(text)))\n",
        "# Take a look at the first 250 characters in text\n",
        "print(text[:500])\n",
        "# The unique characters in the file\n",
        "vocab = sorted(set(text))\n",
        "print ('{} unique characters'.format(len(vocab)))\n",
        "\n",
        "# Creating a mapping from unique characters to indices\n",
        "char2idx = {u:i for i, u in enumerate(vocab)}\n",
        "idx2char = np.array(vocab)\n",
        "\n",
        "text_as_int = np.array([char2idx[c] for c in text])\n",
        "\n",
        "print('{')\n",
        "for char,_ in zip(char2idx, range(20)):\n",
        "    print('  {:4s}: {:3d},'.format(repr(char), char2idx[char]))\n",
        "print('  ...\\n}')\n",
        "# Show how the first 13 characters from the text are mapped to integers\n",
        "print ('{} ---- characters mapped to int ---- > {}'.format(repr(text[:13]), text_as_int[:13]))\n",
        "import re\n",
        "punctuation=r\"[?!,.]*\"\n",
        "print(re.match(punctuation, path_to_file))\n"
      ],
      "execution_count": 3,
      "outputs": [
        {
          "output_type": "stream",
          "text": [
            "Length of text: 2480 characters\n",
            " \n",
            "KING ARTHUR: Whoa there!  [clop clop clop] \n",
            "SOLDIER #1: Halt!  Who goes there?\n",
            "ARTHUR: It is I, Arthur, son of Uther Pendragon, from the castle of Camelot.  King of the Britons, defeator of the Saxons, sovereign of all England!\n",
            "SOLDIER #1: Pull the other one!\n",
            "ARTHUR: I am, ...  and this is my trusty servant Patsy.  We have ridden the length and breadth of the land in search of knights who will join me in my court at Camelot.  I must speak with your lord and master.\n",
            "SOLDIER #1: What?  Ridden on\n",
            "61 unique characters\n",
            "{\n",
            "  '\\n':   0,\n",
            "  ' ' :   1,\n",
            "  '!' :   2,\n",
            "  '#' :   3,\n",
            "  \"'\" :   4,\n",
            "  ',' :   5,\n",
            "  '-' :   6,\n",
            "  '.' :   7,\n",
            "  '1' :   8,\n",
            "  '2' :   9,\n",
            "  ':' :  10,\n",
            "  '?' :  11,\n",
            "  'A' :  12,\n",
            "  'B' :  13,\n",
            "  'C' :  14,\n",
            "  'D' :  15,\n",
            "  'E' :  16,\n",
            "  'F' :  17,\n",
            "  'G' :  18,\n",
            "  'H' :  19,\n",
            "  ...\n",
            "}\n",
            "' \\nKING ARTHUR' ---- characters mapped to int ---- > [ 1  0 21 20 24 18  1 12 27 29 19 30 27]\n",
            "<_sre.SRE_Match object; span=(0, 0), match=''>\n"
          ],
          "name": "stdout"
        }
      ]
    }
  ]
}