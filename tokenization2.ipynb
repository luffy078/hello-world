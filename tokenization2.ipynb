{
  "nbformat": 4,
  "nbformat_minor": 0,
  "metadata": {
    "colab": {
      "name": "tokenization2.ipynb",
      "version": "0.3.2",
      "provenance": [],
      "include_colab_link": true
    },
    "kernelspec": {
      "name": "python3",
      "display_name": "Python 3"
    }
  },
  "cells": [
    {
      "cell_type": "markdown",
      "metadata": {
        "id": "view-in-github",
        "colab_type": "text"
      },
      "source": [
        "<a href=\"https://colab.research.google.com/github/luffy078/hello-world/blob/master/tokenization2.ipynb\" target=\"_parent\"><img src=\"https://colab.research.google.com/assets/colab-badge.svg\" alt=\"Open In Colab\"/></a>"
      ]
    },
    {
      "metadata": {
        "id": "LgzYq-svZmG0",
        "colab_type": "code",
        "colab": {
          "base_uri": "https://localhost:8080/",
          "height": 101
        },
        "outputId": "cc33d647-5f2a-4fd2-8d52-8a1eb581d329"
      },
      "cell_type": "code",
      "source": [
        "import nltk\n",
        "nltk.download('punkt')\n",
        "import re\n",
        "# Import necessary modules\n",
        "from nltk.tokenize import sent_tokenize\n",
        "from nltk.tokenize import word_tokenize\n",
        "sentences=\" It is I, Arthur, son of Uther Pendragon, from the castle of Camelot.  King of the Britons, defeator of the Saxons, sovereign of all England!\"\n",
        "scene_one= \"\"\" \n",
        "KING ARTHUR: Whoa there!  [clop clop clop] \n",
        "SOLDIER #1: Halt!  Who goes there?\n",
        "ARTHUR: It is I, Arthur, son of Uther Pendragon, from the castle of Camelot.  King of the Britons, defeator of the Saxons, sovereign of all England!\n",
        "SOLDIER #1: Pull the other one!\n",
        "ARTHUR: I am, ...  and this is my trusty servant Patsy.  We have ridden the length and breadth of the land in search of knights who will join me in my court at Camelot.  I must speak with your lord and master.\n",
        "SOLDIER #1: What?  Ridden on a horse?\n",
        "ARTHUR: Yes!\n",
        "SOLDIER #1: You're using coconuts!\n",
        "ARTHUR: What?\n",
        "SOLDIER #1: You've got two empty halves of coconut and you're bangin' 'em together.\n",
        "ARTHUR: So?  We have ridden since the snows of winter covered this land, through the kingdom of Mercea, through--\n",
        "SOLDIER #1: Where'd you get the coconuts?\n",
        "ARTHUR: We found them.\n",
        "SOLDIER #1: Found them?  In Mercea?  The coconut's tropical!\n",
        "ARTHUR: What do you mean?\n",
        "SOLDIER #1: Well, this is a temperate zone.\n",
        "ARTHUR: The swallow may fly south with the sun or the house martin or the plover may seek warmer climes in winter, yet these are not strangers to our land?\n",
        "SOLDIER #1: Are you suggesting coconuts migrate?\n",
        "ARTHUR: Not at all.  They could be carried.\n",
        "SOLDIER #1: What?  A swallow carrying a coconut?\n",
        "ARTHUR: It could grip it by the husk!\n",
        "SOLDIER #1: It's not a question of where he grips it!  It's a simple question of weight ratios!  A five ounce bird could not carry a one pound coconut.\n",
        "ARTHUR: Well, it doesn't matter.  Will you go and tell your master that Arthur from the Court of Camelot is here.\n",
        "SOLDIER #1: Listen.  In order to maintain air-speed velocity, a swallow needs to beat its wings forty-three times every second, right?\n",
        "ARTHUR: Please!\n",
        "SOLDIER #1: Am I right?\n",
        "ARTHUR: I'm not interested!\n",
        "SOLDIER #2: It could be carried by an African swallow!\n",
        "SOLDIER #1: Oh, yeah, an African swallow maybe, but not a European swallow.  That's my point.\n",
        "SOLDIER #2: Oh, yeah, I agree with that.\n",
        "ARTHUR: Will you ask your master if he wants to join my court at Camelot?!\n",
        "SOLDIER #1: But then of course a-- African swallows are non-migratory.\n",
        "SOLDIER #2: Oh, yeah...\n",
        "SOLDIER #1: So they couldn't bring a coconut back anyway...  [clop clop clop] \n",
        "SOLDIER #2: Wait a minute!  Supposing two swallows carried it together?\n",
        "SOLDIER #1: No, they'd have to have it on a line.\n",
        "SOLDIER #2: Well, simple!  They'd just use a strand of creeper!\n",
        "SOLDIER #1: What, held under the dorsal guiding feathers?\n",
        "SOLDIER #2: Well, why not?\"\"\"\n",
        "\n",
        "# Search for the first occurrence of \"coconuts\" in scene_one: match\n",
        "#Check your call of re.search(). Did you correctly specify the first argument? Expected coconuts, but got coconut\n",
        "match = re.search(\"coconuts\", scene_one)\n",
        "\n",
        "# Print the start and end indexes of match\n",
        "print(match.start(), match.end())\n",
        "\n",
        "# Write a regular expression to search for anything in square brackets: pattern1\n",
        "#Did you correctly define the variable pattern1? Expected \\[.*\\], but got  \\[]\n",
        "pattern1 = r\"\\[.*\\]\"\n",
        "\n",
        "# Use re.search to find the first text in square brackets\n",
        "print(re.search(pattern1,scene_one))\n",
        "\n",
        "# Find the script notation at the beginning of the fourth sentence and print it\n",
        "# Did you correctly define the variable pattern2? Expected [\\w\\s]+:, but got []__.\n",
        "#The contents of pattern2 are incorrect(print(re.match(scene_one, sentences[3])))\n",
        "pattern2 = r\"[\\w\\s]+\"\n",
        "print(re.match(pattern2, sentences[3]))"
      ],
      "execution_count": 5,
      "outputs": [
        {
          "output_type": "stream",
          "text": [
            "[nltk_data] Downloading package punkt to /root/nltk_data...\n",
            "[nltk_data]   Package punkt is already up-to-date!\n",
            "548 556\n",
            "<_sre.SRE_Match object; span=(28, 44), match='[clop clop clop]'>\n",
            "<_sre.SRE_Match object; span=(0, 1), match=' '>\n"
          ],
          "name": "stdout"
        }
      ]
    }
  ]
}