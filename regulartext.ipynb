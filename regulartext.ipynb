{
  "nbformat": 4,
  "nbformat_minor": 0,
  "metadata": {
    "colab": {
      "name": " regulartext.ipynb",
      "version": "0.3.2",
      "provenance": [],
      "include_colab_link": true
    },
    "kernelspec": {
      "name": "python3",
      "display_name": "Python 3"
    }
  },
  "cells": [
    {
      "cell_type": "markdown",
      "metadata": {
        "id": "view-in-github",
        "colab_type": "text"
      },
      "source": [
        "<a href=\"https://colab.research.google.com/github/luffy078/hello-world/blob/master/regulartext.ipynb\" target=\"_parent\"><img src=\"https://colab.research.google.com/assets/colab-badge.svg\" alt=\"Open In Colab\"/></a>"
      ]
    },
    {
      "metadata": {
        "id": "XGo4IZu_vlQm",
        "colab_type": "code",
        "colab": {
          "base_uri": "https://localhost:8080/",
          "height": 218
        },
        "outputId": "a575da14-8a60-4ec0-dc06-a85f7c3e541d"
      },
      "cell_type": "code",
      "source": [
        "import re\n",
        "my_string=\"Let's write RegEx!  Won't that be fun?  I sure think so.  Can you find 4 sentences?  Or perhaps, all 19 words?\"\n",
        "\n",
        "# Write a pattern to match sentence endings: sentence_endings\n",
        "#https://stackoverflow.com/questions/43753581/python-regex-to-match-punctuation-at-end-of-string/43755160\n",
        "sentence_endings = r\"[^?!.]*\"\n",
        "print(re.match(sentence_endings, my_string))\n",
        "#what they wanted\n",
        "sentence_ending = r\"[.?!]\"\n",
        "print(re.match(sentence_ending, my_string))\n",
        "\n",
        "# Split my_string on sentence endings and print the result\n",
        "print(re.split(sentence_endings, my_string),\"\\n\")\n",
        "\n",
        "# Find all capitalized words in my_string and print the result\n",
        "capitalized_words = r\"[A-Z]\\w+\"\n",
        "print(re.findall(capitalized_words,my_string),\"\\n\")\n",
        "\n",
        "# Split my_string on spaces and print the result\n",
        "spaces = '\\s+'\n",
        "print(re.split(spaces, my_string),\"\\n\")\n",
        "\n",
        "# Find all digits in my_string and print the result\n",
        "digits = r\"\\d+\"\n",
        "print(re.findall(digits, my_string),\"\\n\")"
      ],
      "execution_count": 4,
      "outputs": [
        {
          "output_type": "stream",
          "text": [
            "<_sre.SRE_Match object; span=(0, 17), match=\"Let's write RegEx\">\n",
            "None\n",
            "['', '!', '?', '.', '?', '?'] \n",
            "\n",
            "['Let', 'RegEx', 'Won', 'Can', 'Or'] \n",
            "\n",
            "[\"Let's\", 'write', 'RegEx!', \"Won't\", 'that', 'be', 'fun?', 'I', 'sure', 'think', 'so.', 'Can', 'you', 'find', '4', 'sentences?', 'Or', 'perhaps,', 'all', '19', 'words?'] \n",
            "\n",
            "['4', '19'] \n",
            "\n"
          ],
          "name": "stdout"
        },
        {
          "output_type": "stream",
          "text": [
            "/usr/lib/python3.6/re.py:212: FutureWarning: split() requires a non-empty pattern match.\n",
            "  return _compile(pattern, flags).split(string, maxsplit)\n"
          ],
          "name": "stderr"
        }
      ]
    }
  ]
}