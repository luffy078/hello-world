{
  "nbformat": 4,
  "nbformat_minor": 0,
  "metadata": {
    "colab": {
      "name": "tokenization1.ipynb",
      "version": "0.3.2",
      "provenance": [],
      "include_colab_link": true
    },
    "kernelspec": {
      "name": "python3",
      "display_name": "Python 3"
    }
  },
  "cells": [
    {
      "cell_type": "markdown",
      "metadata": {
        "id": "view-in-github",
        "colab_type": "text"
      },
      "source": [
        "<a href=\"https://colab.research.google.com/github/luffy078/hello-world/blob/master/tokenization1.ipynb\" target=\"_parent\"><img src=\"https://colab.research.google.com/assets/colab-badge.svg\" alt=\"Open In Colab\"/></a>"
      ]
    },
    {
      "metadata": {
        "id": "Knd9dCLaFets",
        "colab_type": "code",
        "outputId": "4d70fe17-353a-4f6a-873f-fa3c0b8ccf88",
        "colab": {
          "base_uri": "https://localhost:8080/",
          "height": 104
        }
      },
      "cell_type": "code",
      "source": [
        "import nltk\n",
        "nltk.download('punkt')\n",
        "# Import necessary modules\n",
        "from nltk.tokenize import sent_tokenize\n",
        "from nltk.tokenize import word_tokenize\n",
        "scene_one= \"\"\" \n",
        "KING ARTHUR: Whoa there!  [clop clop clop] \n",
        "SOLDIER #1: Halt!  Who goes there?\n",
        "ARTHUR: It is I, Arthur, son of Uther Pendragon, from the castle of Camelot.  King of the Britons, defeator of the Saxons, sovereign of all England!\n",
        "SOLDIER #1: Pull the other one!\n",
        "ARTHUR: I am, ...  and this is my trusty servant Patsy.  We have ridden the length and breadth of the land in search of knights who will join me in my court at Camelot.  I must speak with your lord and master.\n",
        "SOLDIER #1: What?  Ridden on a horse?\n",
        "ARTHUR: Yes!\n",
        "SOLDIER #1: You're using coconuts!\n",
        "ARTHUR: What?\n",
        "SOLDIER #1: You've got two empty halves of coconut and you're bangin' 'em together.\n",
        "ARTHUR: So?  We have ridden since the snows of winter covered this land, through the kingdom of Mercea, through--\n",
        "SOLDIER #1: Where'd you get the coconuts?\n",
        "ARTHUR: We found them.\n",
        "SOLDIER #1: Found them?  In Mercea?  The coconut's tropical!\n",
        "ARTHUR: What do you mean?\n",
        "SOLDIER #1: Well, this is a temperate zone.\n",
        "ARTHUR: The swallow may fly south with the sun or the house martin or the plover may seek warmer climes in winter, yet these are not strangers to our land?\n",
        "SOLDIER #1: Are you suggesting coconuts migrate?\n",
        "ARTHUR: Not at all.  They could be carried.\n",
        "SOLDIER #1: What?  A swallow carrying a coconut?\n",
        "ARTHUR: It could grip it by the husk!\n",
        "SOLDIER #1: It's not a question of where he grips it!  It's a simple question of weight ratios!  A five ounce bird could not carry a one pound coconut.\n",
        "ARTHUR: Well, it doesn't matter.  Will you go and tell your master that Arthur from the Court of Camelot is here.\n",
        "SOLDIER #1: Listen.  In order to maintain air-speed velocity, a swallow needs to beat its wings forty-three times every second, right?\n",
        "ARTHUR: Please!\n",
        "SOLDIER #1: Am I right?\n",
        "ARTHUR: I'm not interested!\n",
        "SOLDIER #2: It could be carried by an African swallow!\n",
        "SOLDIER #1: Oh, yeah, an African swallow maybe, but not a European swallow.  That's my point.\n",
        "SOLDIER #2: Oh, yeah, I agree with that.\n",
        "ARTHUR: Will you ask your master if he wants to join my court at Camelot?!\n",
        "SOLDIER #1: But then of course a-- African swallows are non-migratory.\n",
        "SOLDIER #2: Oh, yeah...\n",
        "SOLDIER #1: So they couldn't bring a coconut back anyway...  [clop clop clop] \n",
        "SOLDIER #2: Wait a minute!  Supposing two swallows carried it together?\n",
        "SOLDIER #1: No, they'd have to have it on a line.\n",
        "SOLDIER #2: Well, simple!  They'd just use a strand of creeper!\n",
        "SOLDIER #1: What, held under the dorsal guiding feathers?\n",
        "SOLDIER #2: Well, why not?\"\"\"\n",
        "\n",
        "# Split scene_one into sentences: sentences\n",
        "sentences = sent_tokenize(scene_one)\n",
        "\n",
        "# Use word_tokenize to tokenize the fourth sentence: tokenized_sent\n",
        "tokenized_sent = word_tokenize(sentences[3])\n",
        "\n",
        "# Make a set of unique tokens in the entire scene: unique_tokens\n",
        "unique_tokens = set(word_tokenize(scene_one))\n",
        "uniq_tokens= word_tokenize(scene_one)\n",
        "# Print the unique tokens result\n",
        "print(unique_tokens)\n",
        "print(uniq_tokens)"
      ],
      "execution_count": 2,
      "outputs": [
        {
          "output_type": "stream",
          "text": [
            "[nltk_data] Downloading package punkt to /root/nltk_data...\n",
            "[nltk_data]   Package punkt is already up-to-date!\n",
            "{'may', 'court', 'there', ',', 'bring', 'use', 'defeator', 'mean', 'carrying', 'needs', \"'\", 'anyway', 'dorsal', 'does', 'wings', \"'em\", '...', 'a', 'must', 'using', 'not', 'swallows', 'all', 'he', 'am', 'feathers', 'question', 'Will', 'son', 'temperate', 'migrate', 'agree', 'pound', 'Pendragon', 'at', 'who', 'ridden', 'my', 'land', 'servant', 'kingdom', 'ratios', 'snows', 'swallow', 'matter', 'the', 'Britons', 'fly', 'Where', 'is', \"'d\", 'me', 'them', 'trusty', 'your', 'Am', 'knights', 'non-migratory', 'then', 'could', 'this', 'Found', 'SOLDIER', 'simple', 'What', 'We', 'bangin', 'speak', 'since', 'wants', 'plover', 'five', 'Halt', 'empty', 'south', 'Patsy', 'Ridden', '2', 'velocity', 'husk', 'point', 'just', '!', 'weight', 'yet', 'house', 'Uther', 'Supposing', 'other', 'they', '[', 'Well', 'Listen', 'back', 'tropical', 'where', 'Please', 'under', '.', 'sovereign', 'one', 'two', 'King', 'that', 'interested', 'held', 'times', 'air-speed', 'of', 'Whoa', 'tell', 'castle', 'by', 'get', 'join', 'with', 'You', 'Arthur', 'Saxons', 'Who', 'Mercea', 'it', \"n't\", 'why', 'Wait', 'go', 'these', 'have', 'horse', 'goes', 'order', 'carried', 'every', \"'s\", 'warmer', 'if', 'But', 'maintain', '--', 'suggesting', 'Oh', 'are', 'strand', 'martin', 'here', 'maybe', 'in', 'course', '1', 'length', 'and', 'So', 'got', 'Not', 'Court', 'KING', 'master', 'covered', 'ounce', 'ARTHUR', 'It', 'search', 'Pull', 'found', 'ask', 'I', \"'ve\", 'will', 'second', 'line', 'A', 'bird', 'climes', 'forty-three', 'on', 'The', 'to', 'In', 'right', 'Camelot', 'our', \"'re\", 'yeah', '?', 'clop', 'from', 'European', 'No', 'or', 'seek', 'you', 'its', 'African', 'but', 'beat', 'strangers', 'be', ']', 'together', 'creeper', 'an', 'sun', 'breadth', 'grips', ':', 'coconuts', 'coconut', 'halves', 'winter', 'They', 'zone', 'That', 'carry', 'lord', '#', 'do', 'Are', 'England', 'grip', \"'m\", 'through', 'minute', 'guiding', 'Yes'}\n",
            "['KING', 'ARTHUR', ':', 'Whoa', 'there', '!', '[', 'clop', 'clop', 'clop', ']', 'SOLDIER', '#', '1', ':', 'Halt', '!', 'Who', 'goes', 'there', '?', 'ARTHUR', ':', 'It', 'is', 'I', ',', 'Arthur', ',', 'son', 'of', 'Uther', 'Pendragon', ',', 'from', 'the', 'castle', 'of', 'Camelot', '.', 'King', 'of', 'the', 'Britons', ',', 'defeator', 'of', 'the', 'Saxons', ',', 'sovereign', 'of', 'all', 'England', '!', 'SOLDIER', '#', '1', ':', 'Pull', 'the', 'other', 'one', '!', 'ARTHUR', ':', 'I', 'am', ',', '...', 'and', 'this', 'is', 'my', 'trusty', 'servant', 'Patsy', '.', 'We', 'have', 'ridden', 'the', 'length', 'and', 'breadth', 'of', 'the', 'land', 'in', 'search', 'of', 'knights', 'who', 'will', 'join', 'me', 'in', 'my', 'court', 'at', 'Camelot', '.', 'I', 'must', 'speak', 'with', 'your', 'lord', 'and', 'master', '.', 'SOLDIER', '#', '1', ':', 'What', '?', 'Ridden', 'on', 'a', 'horse', '?', 'ARTHUR', ':', 'Yes', '!', 'SOLDIER', '#', '1', ':', 'You', \"'re\", 'using', 'coconuts', '!', 'ARTHUR', ':', 'What', '?', 'SOLDIER', '#', '1', ':', 'You', \"'ve\", 'got', 'two', 'empty', 'halves', 'of', 'coconut', 'and', 'you', \"'re\", 'bangin', \"'\", \"'em\", 'together', '.', 'ARTHUR', ':', 'So', '?', 'We', 'have', 'ridden', 'since', 'the', 'snows', 'of', 'winter', 'covered', 'this', 'land', ',', 'through', 'the', 'kingdom', 'of', 'Mercea', ',', 'through', '--', 'SOLDIER', '#', '1', ':', 'Where', \"'d\", 'you', 'get', 'the', 'coconuts', '?', 'ARTHUR', ':', 'We', 'found', 'them', '.', 'SOLDIER', '#', '1', ':', 'Found', 'them', '?', 'In', 'Mercea', '?', 'The', 'coconut', \"'s\", 'tropical', '!', 'ARTHUR', ':', 'What', 'do', 'you', 'mean', '?', 'SOLDIER', '#', '1', ':', 'Well', ',', 'this', 'is', 'a', 'temperate', 'zone', '.', 'ARTHUR', ':', 'The', 'swallow', 'may', 'fly', 'south', 'with', 'the', 'sun', 'or', 'the', 'house', 'martin', 'or', 'the', 'plover', 'may', 'seek', 'warmer', 'climes', 'in', 'winter', ',', 'yet', 'these', 'are', 'not', 'strangers', 'to', 'our', 'land', '?', 'SOLDIER', '#', '1', ':', 'Are', 'you', 'suggesting', 'coconuts', 'migrate', '?', 'ARTHUR', ':', 'Not', 'at', 'all', '.', 'They', 'could', 'be', 'carried', '.', 'SOLDIER', '#', '1', ':', 'What', '?', 'A', 'swallow', 'carrying', 'a', 'coconut', '?', 'ARTHUR', ':', 'It', 'could', 'grip', 'it', 'by', 'the', 'husk', '!', 'SOLDIER', '#', '1', ':', 'It', \"'s\", 'not', 'a', 'question', 'of', 'where', 'he', 'grips', 'it', '!', 'It', \"'s\", 'a', 'simple', 'question', 'of', 'weight', 'ratios', '!', 'A', 'five', 'ounce', 'bird', 'could', 'not', 'carry', 'a', 'one', 'pound', 'coconut', '.', 'ARTHUR', ':', 'Well', ',', 'it', 'does', \"n't\", 'matter', '.', 'Will', 'you', 'go', 'and', 'tell', 'your', 'master', 'that', 'Arthur', 'from', 'the', 'Court', 'of', 'Camelot', 'is', 'here', '.', 'SOLDIER', '#', '1', ':', 'Listen', '.', 'In', 'order', 'to', 'maintain', 'air-speed', 'velocity', ',', 'a', 'swallow', 'needs', 'to', 'beat', 'its', 'wings', 'forty-three', 'times', 'every', 'second', ',', 'right', '?', 'ARTHUR', ':', 'Please', '!', 'SOLDIER', '#', '1', ':', 'Am', 'I', 'right', '?', 'ARTHUR', ':', 'I', \"'m\", 'not', 'interested', '!', 'SOLDIER', '#', '2', ':', 'It', 'could', 'be', 'carried', 'by', 'an', 'African', 'swallow', '!', 'SOLDIER', '#', '1', ':', 'Oh', ',', 'yeah', ',', 'an', 'African', 'swallow', 'maybe', ',', 'but', 'not', 'a', 'European', 'swallow', '.', 'That', \"'s\", 'my', 'point', '.', 'SOLDIER', '#', '2', ':', 'Oh', ',', 'yeah', ',', 'I', 'agree', 'with', 'that', '.', 'ARTHUR', ':', 'Will', 'you', 'ask', 'your', 'master', 'if', 'he', 'wants', 'to', 'join', 'my', 'court', 'at', 'Camelot', '?', '!', 'SOLDIER', '#', '1', ':', 'But', 'then', 'of', 'course', 'a', '--', 'African', 'swallows', 'are', 'non-migratory', '.', 'SOLDIER', '#', '2', ':', 'Oh', ',', 'yeah', '...', 'SOLDIER', '#', '1', ':', 'So', 'they', 'could', \"n't\", 'bring', 'a', 'coconut', 'back', 'anyway', '...', '[', 'clop', 'clop', 'clop', ']', 'SOLDIER', '#', '2', ':', 'Wait', 'a', 'minute', '!', 'Supposing', 'two', 'swallows', 'carried', 'it', 'together', '?', 'SOLDIER', '#', '1', ':', 'No', ',', 'they', \"'d\", 'have', 'to', 'have', 'it', 'on', 'a', 'line', '.', 'SOLDIER', '#', '2', ':', 'Well', ',', 'simple', '!', 'They', \"'d\", 'just', 'use', 'a', 'strand', 'of', 'creeper', '!', 'SOLDIER', '#', '1', ':', 'What', ',', 'held', 'under', 'the', 'dorsal', 'guiding', 'feathers', '?', 'SOLDIER', '#', '2', ':', 'Well', ',', 'why', 'not', '?']\n"
          ],
          "name": "stdout"
        }
      ]
    }
  ]
}